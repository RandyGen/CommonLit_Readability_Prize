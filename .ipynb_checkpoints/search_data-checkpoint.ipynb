{
 "cells": [
  {
   "cell_type": "code",
   "execution_count": 1,
   "id": "cleared-reserve",
   "metadata": {},
   "outputs": [
    {
     "name": "stderr",
     "output_type": "stream",
     "text": [
      "/Users/randygen/.pyenv/versions/3.9.1/lib/python3.9/site-packages/pandas/compat/__init__.py:97: UserWarning: Could not import the lzma module. Your installed Python is incomplete. Attempting to use lzma compression will result in a RuntimeError.\n",
      "  warnings.warn(msg)\n"
     ]
    }
   ],
   "source": [
    "import spacy\n",
    "import pandas as pd"
   ]
  },
  {
   "cell_type": "code",
   "execution_count": 2,
   "id": "independent-hamburg",
   "metadata": {},
   "outputs": [],
   "source": [
    "nlp = spacy.load('en')\n",
    "train = pd.read_csv('data/train.csv')\n",
    "test = pd.read_csv('data/test.csv')\n",
    "train = train[['id', 'excerpt', 'target']]"
   ]
  },
  {
   "cell_type": "code",
   "execution_count": 3,
   "id": "liable-group",
   "metadata": {},
   "outputs": [
    {
     "data": {
      "text/html": [
       "<div>\n",
       "<style scoped>\n",
       "    .dataframe tbody tr th:only-of-type {\n",
       "        vertical-align: middle;\n",
       "    }\n",
       "\n",
       "    .dataframe tbody tr th {\n",
       "        vertical-align: top;\n",
       "    }\n",
       "\n",
       "    .dataframe thead th {\n",
       "        text-align: right;\n",
       "    }\n",
       "</style>\n",
       "<table border=\"1\" class=\"dataframe\">\n",
       "  <thead>\n",
       "    <tr style=\"text-align: right;\">\n",
       "      <th></th>\n",
       "      <th>id</th>\n",
       "      <th>excerpt</th>\n",
       "      <th>target</th>\n",
       "    </tr>\n",
       "  </thead>\n",
       "  <tbody>\n",
       "    <tr>\n",
       "      <th>0</th>\n",
       "      <td>c12129c31</td>\n",
       "      <td>When the young people returned to the ballroom...</td>\n",
       "      <td>-0.340259</td>\n",
       "    </tr>\n",
       "    <tr>\n",
       "      <th>1</th>\n",
       "      <td>85aa80a4c</td>\n",
       "      <td>All through dinner time, Mrs. Fayre was somewh...</td>\n",
       "      <td>-0.315372</td>\n",
       "    </tr>\n",
       "    <tr>\n",
       "      <th>2</th>\n",
       "      <td>b69ac6792</td>\n",
       "      <td>As Roger had predicted, the snow departed as q...</td>\n",
       "      <td>-0.580118</td>\n",
       "    </tr>\n",
       "    <tr>\n",
       "      <th>3</th>\n",
       "      <td>dd1000b26</td>\n",
       "      <td>And outside before the palace a great garden w...</td>\n",
       "      <td>-1.054013</td>\n",
       "    </tr>\n",
       "    <tr>\n",
       "      <th>4</th>\n",
       "      <td>37c1b32fb</td>\n",
       "      <td>Once upon a time there were Three Bears who li...</td>\n",
       "      <td>0.247197</td>\n",
       "    </tr>\n",
       "  </tbody>\n",
       "</table>\n",
       "</div>"
      ],
      "text/plain": [
       "          id                                            excerpt    target\n",
       "0  c12129c31  When the young people returned to the ballroom... -0.340259\n",
       "1  85aa80a4c  All through dinner time, Mrs. Fayre was somewh... -0.315372\n",
       "2  b69ac6792  As Roger had predicted, the snow departed as q... -0.580118\n",
       "3  dd1000b26  And outside before the palace a great garden w... -1.054013\n",
       "4  37c1b32fb  Once upon a time there were Three Bears who li...  0.247197"
      ]
     },
     "execution_count": 3,
     "metadata": {},
     "output_type": "execute_result"
    }
   ],
   "source": [
    "train.head()"
   ]
  },
  {
   "cell_type": "code",
   "execution_count": 4,
   "id": "wrapped-miniature",
   "metadata": {},
   "outputs": [
    {
     "data": {
      "text/plain": [
       "(2834, 3)"
      ]
     },
     "execution_count": 4,
     "metadata": {},
     "output_type": "execute_result"
    }
   ],
   "source": [
    "train.shape"
   ]
  },
  {
   "cell_type": "code",
   "execution_count": null,
   "id": "biological-plymouth",
   "metadata": {
    "jupyter": {
     "source_hidden": true
    },
    "tags": []
   },
   "outputs": [],
   "source": [
    "function = lambda x: nlp(x)\n",
    "df['spacy'] = df['excerpt'].apply(function)"
   ]
  },
  {
   "cell_type": "code",
   "execution_count": 16,
   "id": "independent-athens",
   "metadata": {
    "tags": []
   },
   "outputs": [],
   "source": [
    "function = lambda x: x.count(',')\n",
    "train['comma'] = train['excerpt'].apply(function)"
   ]
  },
  {
   "cell_type": "code",
   "execution_count": 17,
   "id": "corresponding-representation",
   "metadata": {},
   "outputs": [],
   "source": [
    "function = lambda x: x.count('.')\n",
    "train['dot'] = train['excerpt'].apply(function)"
   ]
  },
  {
   "cell_type": "code",
   "execution_count": 18,
   "id": "experienced-business",
   "metadata": {},
   "outputs": [],
   "source": [
    "function = lambda x: x.count(' ')\n",
    "train['space'] = train['excerpt'].apply(function)"
   ]
  },
  {
   "cell_type": "code",
   "execution_count": 19,
   "id": "complimentary-mailing",
   "metadata": {},
   "outputs": [],
   "source": [
    "function = lambda x: x.split()\n",
    "train['words'] = train['excerpt'].apply(function)\n",
    "function = lambda x: len(x)\n",
    "train['words_length'] = train['words'].apply(function)"
   ]
  },
  {
   "cell_type": "code",
   "execution_count": 20,
   "id": "mexican-receptor",
   "metadata": {},
   "outputs": [],
   "source": [
    "function = lambda x: list(x)\n",
    "train['letters'] = train['excerpt'].apply(function)\n",
    "function = lambda x: len(x)\n",
    "train['letters_length'] = train['letters'].apply(function)"
   ]
  },
  {
   "cell_type": "code",
   "execution_count": 21,
   "id": "numeric-network",
   "metadata": {},
   "outputs": [
    {
     "data": {
      "text/plain": [
       "0.26505499177717046"
      ]
     },
     "execution_count": 21,
     "metadata": {},
     "output_type": "execute_result"
    }
   ],
   "source": [
    "train['target'].corr(train['dot'])"
   ]
  },
  {
   "cell_type": "code",
   "execution_count": 22,
   "id": "wired-clinic",
   "metadata": {},
   "outputs": [
    {
     "data": {
      "text/plain": [
       "-0.14288727823308087"
      ]
     },
     "execution_count": 22,
     "metadata": {},
     "output_type": "execute_result"
    }
   ],
   "source": [
    "train['target'].corr(train['space'])"
   ]
  },
  {
   "cell_type": "code",
   "execution_count": 23,
   "id": "limited-security",
   "metadata": {},
   "outputs": [
    {
     "data": {
      "text/plain": [
       "-0.09445637417228456"
      ]
     },
     "execution_count": 23,
     "metadata": {},
     "output_type": "execute_result"
    }
   ],
   "source": [
    "train['target'].corr(train['comma'])"
   ]
  },
  {
   "cell_type": "code",
   "execution_count": 24,
   "id": "blind-sterling",
   "metadata": {},
   "outputs": [
    {
     "data": {
      "text/plain": [
       "-0.12387821171435119"
      ]
     },
     "execution_count": 24,
     "metadata": {},
     "output_type": "execute_result"
    }
   ],
   "source": [
    "train['target'].corr(train['words_length'])"
   ]
  },
  {
   "cell_type": "code",
   "execution_count": 25,
   "id": "senior-vector",
   "metadata": {},
   "outputs": [
    {
     "data": {
      "text/plain": [
       "-0.36278233607256816"
      ]
     },
     "execution_count": 25,
     "metadata": {},
     "output_type": "execute_result"
    }
   ],
   "source": [
    "train['target'].corr(train['letters_length'])"
   ]
  },
  {
   "cell_type": "code",
   "execution_count": 26,
   "id": "selected-jersey",
   "metadata": {},
   "outputs": [
    {
     "data": {
      "text/html": [
       "<div>\n",
       "<style scoped>\n",
       "    .dataframe tbody tr th:only-of-type {\n",
       "        vertical-align: middle;\n",
       "    }\n",
       "\n",
       "    .dataframe tbody tr th {\n",
       "        vertical-align: top;\n",
       "    }\n",
       "\n",
       "    .dataframe thead th {\n",
       "        text-align: right;\n",
       "    }\n",
       "</style>\n",
       "<table border=\"1\" class=\"dataframe\">\n",
       "  <thead>\n",
       "    <tr style=\"text-align: right;\">\n",
       "      <th></th>\n",
       "      <th>0</th>\n",
       "      <th>1</th>\n",
       "      <th>2</th>\n",
       "      <th>3</th>\n",
       "      <th>4</th>\n",
       "    </tr>\n",
       "  </thead>\n",
       "  <tbody>\n",
       "    <tr>\n",
       "      <th>id</th>\n",
       "      <td>c12129c31</td>\n",
       "      <td>85aa80a4c</td>\n",
       "      <td>b69ac6792</td>\n",
       "      <td>dd1000b26</td>\n",
       "      <td>37c1b32fb</td>\n",
       "    </tr>\n",
       "    <tr>\n",
       "      <th>excerpt</th>\n",
       "      <td>When the young people returned to the ballroom...</td>\n",
       "      <td>All through dinner time, Mrs. Fayre was somewh...</td>\n",
       "      <td>As Roger had predicted, the snow departed as q...</td>\n",
       "      <td>And outside before the palace a great garden w...</td>\n",
       "      <td>Once upon a time there were Three Bears who li...</td>\n",
       "    </tr>\n",
       "    <tr>\n",
       "      <th>target</th>\n",
       "      <td>-0.340259</td>\n",
       "      <td>-0.315372</td>\n",
       "      <td>-0.580118</td>\n",
       "      <td>-1.054013</td>\n",
       "      <td>0.247197</td>\n",
       "    </tr>\n",
       "    <tr>\n",
       "      <th>flag</th>\n",
       "      <td>14</td>\n",
       "      <td>24</td>\n",
       "      <td>17</td>\n",
       "      <td>23</td>\n",
       "      <td>13</td>\n",
       "    </tr>\n",
       "    <tr>\n",
       "      <th>space</th>\n",
       "      <td>173</td>\n",
       "      <td>163</td>\n",
       "      <td>161</td>\n",
       "      <td>162</td>\n",
       "      <td>146</td>\n",
       "    </tr>\n",
       "    <tr>\n",
       "      <th>dot</th>\n",
       "      <td>11</td>\n",
       "      <td>10</td>\n",
       "      <td>11</td>\n",
       "      <td>5</td>\n",
       "      <td>5</td>\n",
       "    </tr>\n",
       "    <tr>\n",
       "      <th>comma</th>\n",
       "      <td>14</td>\n",
       "      <td>24</td>\n",
       "      <td>17</td>\n",
       "      <td>23</td>\n",
       "      <td>13</td>\n",
       "    </tr>\n",
       "    <tr>\n",
       "      <th>words</th>\n",
       "      <td>[When, the, young, people, returned, to, the, ...</td>\n",
       "      <td>[All, through, dinner, time,, Mrs., Fayre, was...</td>\n",
       "      <td>[As, Roger, had, predicted,, the, snow, depart...</td>\n",
       "      <td>[And, outside, before, the, palace, a, great, ...</td>\n",
       "      <td>[Once, upon, a, time, there, were, Three, Bear...</td>\n",
       "    </tr>\n",
       "    <tr>\n",
       "      <th>words_length</th>\n",
       "      <td>179</td>\n",
       "      <td>169</td>\n",
       "      <td>166</td>\n",
       "      <td>164</td>\n",
       "      <td>147</td>\n",
       "    </tr>\n",
       "    <tr>\n",
       "      <th>letters</th>\n",
       "      <td>[W, h, e, n,  , t, h, e,  , y, o, u, n, g,  , ...</td>\n",
       "      <td>[A, l, l,  , t, h, r, o, u, g, h,  , d, i, n, ...</td>\n",
       "      <td>[A, s,  , R, o, g, e, r,  , h, a, d,  , p, r, ...</td>\n",
       "      <td>[A, n, d,  , o, u, t, s, i, d, e,  , b, e, f, ...</td>\n",
       "      <td>[O, n, c, e,  , u, p, o, n,  , a,  , t, i, m, ...</td>\n",
       "    </tr>\n",
       "    <tr>\n",
       "      <th>letters_length</th>\n",
       "      <td>992</td>\n",
       "      <td>937</td>\n",
       "      <td>908</td>\n",
       "      <td>909</td>\n",
       "      <td>723</td>\n",
       "    </tr>\n",
       "  </tbody>\n",
       "</table>\n",
       "</div>"
      ],
      "text/plain": [
       "                                                                0  \\\n",
       "id                                                      c12129c31   \n",
       "excerpt         When the young people returned to the ballroom...   \n",
       "target                                                  -0.340259   \n",
       "flag                                                           14   \n",
       "space                                                         173   \n",
       "dot                                                            11   \n",
       "comma                                                          14   \n",
       "words           [When, the, young, people, returned, to, the, ...   \n",
       "words_length                                                  179   \n",
       "letters         [W, h, e, n,  , t, h, e,  , y, o, u, n, g,  , ...   \n",
       "letters_length                                                992   \n",
       "\n",
       "                                                                1  \\\n",
       "id                                                      85aa80a4c   \n",
       "excerpt         All through dinner time, Mrs. Fayre was somewh...   \n",
       "target                                                  -0.315372   \n",
       "flag                                                           24   \n",
       "space                                                         163   \n",
       "dot                                                            10   \n",
       "comma                                                          24   \n",
       "words           [All, through, dinner, time,, Mrs., Fayre, was...   \n",
       "words_length                                                  169   \n",
       "letters         [A, l, l,  , t, h, r, o, u, g, h,  , d, i, n, ...   \n",
       "letters_length                                                937   \n",
       "\n",
       "                                                                2  \\\n",
       "id                                                      b69ac6792   \n",
       "excerpt         As Roger had predicted, the snow departed as q...   \n",
       "target                                                  -0.580118   \n",
       "flag                                                           17   \n",
       "space                                                         161   \n",
       "dot                                                            11   \n",
       "comma                                                          17   \n",
       "words           [As, Roger, had, predicted,, the, snow, depart...   \n",
       "words_length                                                  166   \n",
       "letters         [A, s,  , R, o, g, e, r,  , h, a, d,  , p, r, ...   \n",
       "letters_length                                                908   \n",
       "\n",
       "                                                                3  \\\n",
       "id                                                      dd1000b26   \n",
       "excerpt         And outside before the palace a great garden w...   \n",
       "target                                                  -1.054013   \n",
       "flag                                                           23   \n",
       "space                                                         162   \n",
       "dot                                                             5   \n",
       "comma                                                          23   \n",
       "words           [And, outside, before, the, palace, a, great, ...   \n",
       "words_length                                                  164   \n",
       "letters         [A, n, d,  , o, u, t, s, i, d, e,  , b, e, f, ...   \n",
       "letters_length                                                909   \n",
       "\n",
       "                                                                4  \n",
       "id                                                      37c1b32fb  \n",
       "excerpt         Once upon a time there were Three Bears who li...  \n",
       "target                                                   0.247197  \n",
       "flag                                                           13  \n",
       "space                                                         146  \n",
       "dot                                                             5  \n",
       "comma                                                          13  \n",
       "words           [Once, upon, a, time, there, were, Three, Bear...  \n",
       "words_length                                                  147  \n",
       "letters         [O, n, c, e,  , u, p, o, n,  , a,  , t, i, m, ...  \n",
       "letters_length                                                723  "
      ]
     },
     "execution_count": 26,
     "metadata": {},
     "output_type": "execute_result"
    }
   ],
   "source": [
    "train.head().T"
   ]
  },
  {
   "cell_type": "code",
   "execution_count": null,
   "id": "clinical-broadcast",
   "metadata": {},
   "outputs": [],
   "source": []
  }
 ],
 "metadata": {
  "kernelspec": {
   "display_name": "Python 3",
   "language": "python",
   "name": "python3"
  },
  "language_info": {
   "codemirror_mode": {
    "name": "ipython",
    "version": 3
   },
   "file_extension": ".py",
   "mimetype": "text/x-python",
   "name": "python",
   "nbconvert_exporter": "python",
   "pygments_lexer": "ipython3",
   "version": "3.9.1"
  }
 },
 "nbformat": 4,
 "nbformat_minor": 5
}
